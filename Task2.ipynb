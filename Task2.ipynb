{
 "cells": [
  {
   "cell_type": "code",
   "execution_count": 1,
   "metadata": {},
   "outputs": [],
   "source": [
    "from cobra import Model, Reaction , Metabolite"
   ]
  },
  {
   "cell_type": "code",
   "execution_count": 2,
   "metadata": {},
   "outputs": [],
   "source": [
    "import cobra"
   ]
  },
  {
   "cell_type": "code",
   "execution_count": 3,
   "metadata": {},
   "outputs": [],
   "source": [
    "model = Model('FirstModel')\n",
    "\n",
    "v1=Reaction('v1')\n",
    "v1.name='V1'\n",
    "v1.lower_bound = 0\n",
    "v1.upper_bound = 1000\n",
    "\n",
    "\n",
    "\n",
    "v2 = Reaction('v2')\n",
    "v2.name='V2'\n",
    "v2.lower_bound = 0\n",
    "v2.upper_bound = 1000"
   ]
  },
  {
   "cell_type": "code",
   "execution_count": 4,
   "metadata": {},
   "outputs": [],
   "source": [
    "v0 = Reaction('v0')\n",
    "v0.name ='V0'\n",
    "v0.lower_bound = 1\n",
    "v0.upper_bound = 1"
   ]
  },
  {
   "cell_type": "code",
   "execution_count": 5,
   "metadata": {},
   "outputs": [],
   "source": [
    "M = Reaction('M')\n",
    "M.name='M'\n",
    "M.lower_bound = 0\n",
    "M.upper_bound = 1000"
   ]
  },
  {
   "cell_type": "code",
   "execution_count": 6,
   "metadata": {},
   "outputs": [],
   "source": [
    "AR = Reaction('A')\n",
    "AR.name='AR'\n",
    "AR.lower_bound = 0\n",
    "AR.upper_bound = 1000"
   ]
  },
  {
   "cell_type": "code",
   "execution_count": 7,
   "metadata": {},
   "outputs": [],
   "source": [
    "v3 = Reaction('v3')\n",
    "AR.name='v3'\n",
    "AR.lower_bound = 0.9\n",
    "AR.upper_bound = 0.9"
   ]
  },
  {
   "cell_type": "code",
   "execution_count": 8,
   "metadata": {},
   "outputs": [],
   "source": [
    "A = Metabolite('A' , compartment='c')\n",
    "B = Metabolite('B' , compartment='c')\n",
    "C = Metabolite('C' , compartment='c')"
   ]
  },
  {
   "cell_type": "code",
   "execution_count": 9,
   "metadata": {},
   "outputs": [],
   "source": [
    "AT = Metabolite('AT' , compartment='c')"
   ]
  },
  {
   "cell_type": "code",
   "execution_count": 10,
   "metadata": {},
   "outputs": [],
   "source": [
    "v1.add_metabolites({A:-1 , B:1})\n",
    "\n",
    "\n",
    "v2.add_metabolites({B:-1 , C:1})"
   ]
  },
  {
   "cell_type": "code",
   "execution_count": 11,
   "metadata": {},
   "outputs": [],
   "source": [
    "v0.add_metabolites( {A:1} )\n"
   ]
  },
  {
   "cell_type": "code",
   "execution_count": 12,
   "metadata": {},
   "outputs": [],
   "source": [
    "M.add_metabolites( {C:-1} )\n"
   ]
  },
  {
   "cell_type": "code",
   "execution_count": 13,
   "metadata": {},
   "outputs": [],
   "source": [
    "AR.add_metabolites( {A:-1 , AT:1} )\n"
   ]
  },
  {
   "cell_type": "code",
   "execution_count": 14,
   "metadata": {},
   "outputs": [],
   "source": [
    "v3.add_metabolites( {AT:-1} )\n"
   ]
  },
  {
   "cell_type": "code",
   "execution_count": 15,
   "metadata": {},
   "outputs": [],
   "source": [
    "model.add_reactions([v0 , v1 , AR , v2 , v3 , M])\n"
   ]
  },
  {
   "cell_type": "code",
   "execution_count": 16,
   "metadata": {},
   "outputs": [],
   "source": [
    "model.objective = 'M'\n"
   ]
  },
  {
   "cell_type": "code",
   "execution_count": 17,
   "metadata": {},
   "outputs": [
    {
     "data": {
      "text/html": [
       "<strong><em>Optimal</em> solution with objective value 0.100</strong><br><div>\n",
       "<style scoped>\n",
       "    .dataframe tbody tr th:only-of-type {\n",
       "        vertical-align: middle;\n",
       "    }\n",
       "\n",
       "    .dataframe tbody tr th {\n",
       "        vertical-align: top;\n",
       "    }\n",
       "\n",
       "    .dataframe thead th {\n",
       "        text-align: right;\n",
       "    }\n",
       "</style>\n",
       "<table border=\"1\" class=\"dataframe\">\n",
       "  <thead>\n",
       "    <tr style=\"text-align: right;\">\n",
       "      <th></th>\n",
       "      <th>fluxes</th>\n",
       "      <th>reduced_costs</th>\n",
       "    </tr>\n",
       "  </thead>\n",
       "  <tbody>\n",
       "    <tr>\n",
       "      <th>v0</th>\n",
       "      <td>1.0</td>\n",
       "      <td>2.0</td>\n",
       "    </tr>\n",
       "    <tr>\n",
       "      <th>v1</th>\n",
       "      <td>0.1</td>\n",
       "      <td>0.0</td>\n",
       "    </tr>\n",
       "    <tr>\n",
       "      <th>A</th>\n",
       "      <td>0.9</td>\n",
       "      <td>-2.0</td>\n",
       "    </tr>\n",
       "    <tr>\n",
       "      <th>v2</th>\n",
       "      <td>0.1</td>\n",
       "      <td>0.0</td>\n",
       "    </tr>\n",
       "    <tr>\n",
       "      <th>v3</th>\n",
       "      <td>0.9</td>\n",
       "      <td>0.0</td>\n",
       "    </tr>\n",
       "    <tr>\n",
       "      <th>M</th>\n",
       "      <td>0.1</td>\n",
       "      <td>0.0</td>\n",
       "    </tr>\n",
       "  </tbody>\n",
       "</table>\n",
       "</div>"
      ],
      "text/plain": [
       "<Solution 0.100 at 0x281fd82d310>"
      ]
     },
     "execution_count": 17,
     "metadata": {},
     "output_type": "execute_result"
    }
   ],
   "source": [
    "model.optimize()\n"
   ]
  },
  {
   "cell_type": "code",
   "execution_count": 18,
   "metadata": {},
   "outputs": [
    {
     "data": {
      "text/html": [
       "<h3>Objective</h3><p>1.0 M = 0.09999999999999998</p><h4>Uptake</h4><table border=\"1\" class=\"dataframe\">\n",
       "  <thead>\n",
       "    <tr style=\"text-align: right;\">\n",
       "      <th>Metabolite</th>\n",
       "      <th>Reaction</th>\n",
       "      <th>Flux</th>\n",
       "      <th>C-Number</th>\n",
       "      <th>C-Flux</th>\n",
       "    </tr>\n",
       "  </thead>\n",
       "  <tbody>\n",
       "    <tr>\n",
       "      <td>A</td>\n",
       "      <td>v0</td>\n",
       "      <td>1</td>\n",
       "      <td>0</td>\n",
       "      <td>0.00%</td>\n",
       "    </tr>\n",
       "  </tbody>\n",
       "</table><h4>Secretion</h4><table border=\"1\" class=\"dataframe\">\n",
       "  <thead>\n",
       "    <tr style=\"text-align: right;\">\n",
       "      <th>Metabolite</th>\n",
       "      <th>Reaction</th>\n",
       "      <th>Flux</th>\n",
       "      <th>C-Number</th>\n",
       "      <th>C-Flux</th>\n",
       "    </tr>\n",
       "  </thead>\n",
       "  <tbody>\n",
       "    <tr>\n",
       "      <td>C</td>\n",
       "      <td>M</td>\n",
       "      <td>-0.1</td>\n",
       "      <td>0</td>\n",
       "      <td>0.00%</td>\n",
       "    </tr>\n",
       "    <tr>\n",
       "      <td>AT</td>\n",
       "      <td>v3</td>\n",
       "      <td>-0.9</td>\n",
       "      <td>0</td>\n",
       "      <td>0.00%</td>\n",
       "    </tr>\n",
       "  </tbody>\n",
       "</table>"
      ],
      "text/plain": [
       "<cobra.summary.model_summary.ModelSummary at 0x28184c41be0>"
      ]
     },
     "execution_count": 18,
     "metadata": {},
     "output_type": "execute_result"
    }
   ],
   "source": [
    "model.summary()\n"
   ]
  },
  {
   "cell_type": "code",
   "execution_count": 19,
   "metadata": {},
   "outputs": [],
   "source": [
    "cobra.io.save_json_model(model,\"test.json\")"
   ]
  },
  {
   "cell_type": "code",
   "execution_count": 20,
   "metadata": {},
   "outputs": [
    {
     "name": "stdout",
     "output_type": "stream",
     "text": [
      "Requirement already satisfied: escher in e:\\anacoda\\lib\\site-packages (1.7.3)\n",
      "Requirement already satisfied: jsonschema<4,>=3.0.1 in e:\\anacoda\\lib\\site-packages (from escher) (3.2.0)\n",
      "Requirement already satisfied: Jinja2<3,>=2.7.3 in e:\\anacoda\\lib\\site-packages (from escher) (2.11.2)\n",
      "Requirement already satisfied: pandas>=0.18 in e:\\anacoda\\lib\\site-packages (from escher) (1.0.5)\n",
      "Requirement already satisfied: ipywidgets<8,>=7.4.0 in e:\\anacoda\\lib\\site-packages (from escher) (7.5.1)\n",
      "Requirement already satisfied: cobra>=0.5.0 in e:\\anacoda\\lib\\site-packages (from escher) (0.24.0)\n",
      "Requirement already satisfied: pytest<5,>=4.0.1 in e:\\anacoda\\lib\\site-packages (from escher) (4.6.11)\n",
      "Requirement already satisfied: six>=1.11.0 in e:\\anacoda\\lib\\site-packages (from jsonschema<4,>=3.0.1->escher) (1.15.0)\n",
      "Requirement already satisfied: pyrsistent>=0.14.0 in e:\\anacoda\\lib\\site-packages (from jsonschema<4,>=3.0.1->escher) (0.16.0)\n",
      "Requirement already satisfied: setuptools in e:\\anacoda\\lib\\site-packages (from jsonschema<4,>=3.0.1->escher) (49.2.0.post20200714)\n",
      "Requirement already satisfied: attrs>=17.4.0 in e:\\anacoda\\lib\\site-packages (from jsonschema<4,>=3.0.1->escher) (19.3.0)\n",
      "Requirement already satisfied: MarkupSafe>=0.23 in e:\\anacoda\\lib\\site-packages (from Jinja2<3,>=2.7.3->escher) (1.1.1)\n",
      "Requirement already satisfied: numpy>=1.13.3 in e:\\anacoda\\lib\\site-packages (from pandas>=0.18->escher) (1.18.5)\n",
      "Requirement already satisfied: python-dateutil>=2.6.1 in e:\\anacoda\\lib\\site-packages (from pandas>=0.18->escher) (2.8.1)\n",
      "Requirement already satisfied: pytz>=2017.2 in e:\\anacoda\\lib\\site-packages (from pandas>=0.18->escher) (2020.1)\n",
      "Requirement already satisfied: nbformat>=4.2.0 in e:\\anacoda\\lib\\site-packages (from ipywidgets<8,>=7.4.0->escher) (5.0.7)\n",
      "Requirement already satisfied: traitlets>=4.3.1 in e:\\anacoda\\lib\\site-packages (from ipywidgets<8,>=7.4.0->escher) (4.3.3)\n",
      "Requirement already satisfied: ipykernel>=4.5.1 in e:\\anacoda\\lib\\site-packages (from ipywidgets<8,>=7.4.0->escher) (5.3.2)\n",
      "Requirement already satisfied: ipython>=4.0.0; python_version >= \"3.3\" in e:\\anacoda\\lib\\site-packages (from ipywidgets<8,>=7.4.0->escher) (7.16.1)\n",
      "Requirement already satisfied: widgetsnbextension~=3.5.0 in e:\\anacoda\\lib\\site-packages (from ipywidgets<8,>=7.4.0->escher) (3.5.1)\n",
      "Requirement already satisfied: swiglpk in e:\\anacoda\\lib\\site-packages (from cobra>=0.5.0->escher) (5.0.4)\n",
      "Requirement already satisfied: rich>=8.0 in e:\\anacoda\\lib\\site-packages (from cobra>=0.5.0->escher) (11.2.0)\n",
      "Requirement already satisfied: python-libsbml==5.19.2 in e:\\anacoda\\lib\\site-packages (from cobra>=0.5.0->escher) (5.19.2)\n",
      "Requirement already satisfied: optlang~=1.5 in e:\\anacoda\\lib\\site-packages (from cobra>=0.5.0->escher) (1.5.2)\n",
      "Requirement already satisfied: depinfo~=1.7 in e:\\anacoda\\lib\\site-packages (from cobra>=0.5.0->escher) (1.7.0)\n",
      "Requirement already satisfied: httpx~=0.14 in e:\\anacoda\\lib\\site-packages (from cobra>=0.5.0->escher) (0.22.0)\n",
      "Requirement already satisfied: pydantic~=1.6 in e:\\anacoda\\lib\\site-packages (from cobra>=0.5.0->escher) (1.9.0)\n",
      "Requirement already satisfied: ruamel.yaml~=0.16 in e:\\anacoda\\lib\\site-packages (from cobra>=0.5.0->escher) (0.17.21)\n",
      "Requirement already satisfied: appdirs~=1.4 in e:\\anacoda\\lib\\site-packages (from cobra>=0.5.0->escher) (1.4.4)\n",
      "Requirement already satisfied: future in e:\\anacoda\\lib\\site-packages (from cobra>=0.5.0->escher) (0.18.2)\n",
      "Requirement already satisfied: diskcache~=5.0 in e:\\anacoda\\lib\\site-packages (from cobra>=0.5.0->escher) (5.4.0)\n",
      "Requirement already satisfied: importlib-resources in e:\\anacoda\\lib\\site-packages (from cobra>=0.5.0->escher) (5.4.0)\n",
      "Requirement already satisfied: py>=1.5.0 in e:\\anacoda\\lib\\site-packages (from pytest<5,>=4.0.1->escher) (1.9.0)\n",
      "Requirement already satisfied: wcwidth in e:\\anacoda\\lib\\site-packages (from pytest<5,>=4.0.1->escher) (0.2.5)\n",
      "Requirement already satisfied: packaging in e:\\anacoda\\lib\\site-packages (from pytest<5,>=4.0.1->escher) (20.4)\n",
      "Requirement already satisfied: more-itertools>=4.0.0; python_version > \"2.7\" in e:\\anacoda\\lib\\site-packages (from pytest<5,>=4.0.1->escher) (8.4.0)\n",
      "Requirement already satisfied: pluggy<1.0,>=0.12 in e:\\anacoda\\lib\\site-packages (from pytest<5,>=4.0.1->escher) (0.13.1)\n",
      "Requirement already satisfied: atomicwrites>=1.0 in e:\\anacoda\\lib\\site-packages (from pytest<5,>=4.0.1->escher) (1.4.0)\n",
      "Requirement already satisfied: colorama; sys_platform == \"win32\" and python_version != \"3.4\" in e:\\anacoda\\lib\\site-packages (from pytest<5,>=4.0.1->escher) (0.4.3)\n",
      "Requirement already satisfied: ipython-genutils in e:\\anacoda\\lib\\site-packages (from nbformat>=4.2.0->ipywidgets<8,>=7.4.0->escher) (0.2.0)\n",
      "Requirement already satisfied: jupyter-core in e:\\anacoda\\lib\\site-packages (from nbformat>=4.2.0->ipywidgets<8,>=7.4.0->escher) (4.6.3)\n",
      "Requirement already satisfied: decorator in e:\\anacoda\\lib\\site-packages (from traitlets>=4.3.1->ipywidgets<8,>=7.4.0->escher) (4.4.2)\n",
      "Requirement already satisfied: tornado>=4.2 in e:\\anacoda\\lib\\site-packages (from ipykernel>=4.5.1->ipywidgets<8,>=7.4.0->escher) (6.0.4)\n",
      "Requirement already satisfied: jupyter-client in e:\\anacoda\\lib\\site-packages (from ipykernel>=4.5.1->ipywidgets<8,>=7.4.0->escher) (6.1.6)\n",
      "Requirement already satisfied: pygments in e:\\anacoda\\lib\\site-packages (from ipython>=4.0.0; python_version >= \"3.3\"->ipywidgets<8,>=7.4.0->escher) (2.6.1)\n",
      "Requirement already satisfied: prompt-toolkit!=3.0.0,!=3.0.1,<3.1.0,>=2.0.0 in e:\\anacoda\\lib\\site-packages (from ipython>=4.0.0; python_version >= \"3.3\"->ipywidgets<8,>=7.4.0->escher) (3.0.5)\n",
      "Requirement already satisfied: pickleshare in e:\\anacoda\\lib\\site-packages (from ipython>=4.0.0; python_version >= \"3.3\"->ipywidgets<8,>=7.4.0->escher) (0.7.5)\n",
      "Requirement already satisfied: backcall in e:\\anacoda\\lib\\site-packages (from ipython>=4.0.0; python_version >= \"3.3\"->ipywidgets<8,>=7.4.0->escher) (0.2.0)\n",
      "Requirement already satisfied: jedi>=0.10 in e:\\anacoda\\lib\\site-packages (from ipython>=4.0.0; python_version >= \"3.3\"->ipywidgets<8,>=7.4.0->escher) (0.17.1)\n",
      "Requirement already satisfied: notebook>=4.4.1 in e:\\anacoda\\lib\\site-packages (from widgetsnbextension~=3.5.0->ipywidgets<8,>=7.4.0->escher) (6.0.3)\n",
      "Requirement already satisfied: commonmark<0.10.0,>=0.9.0 in e:\\anacoda\\lib\\site-packages (from rich>=8.0->cobra>=0.5.0->escher) (0.9.1)\n",
      "Requirement already satisfied: sympy>=1.0 in e:\\anacoda\\lib\\site-packages (from optlang~=1.5->cobra>=0.5.0->escher) (1.6.1)\n",
      "Requirement already satisfied: charset-normalizer in e:\\anacoda\\lib\\site-packages (from httpx~=0.14->cobra>=0.5.0->escher) (2.0.12)\n",
      "Requirement already satisfied: certifi in e:\\anacoda\\lib\\site-packages (from httpx~=0.14->cobra>=0.5.0->escher) (2020.6.20)\n",
      "Requirement already satisfied: rfc3986[idna2008]<2,>=1.3 in e:\\anacoda\\lib\\site-packages (from httpx~=0.14->cobra>=0.5.0->escher) (1.5.0)\n",
      "Requirement already satisfied: httpcore<0.15.0,>=0.14.5 in e:\\anacoda\\lib\\site-packages (from httpx~=0.14->cobra>=0.5.0->escher) (0.14.7)\n",
      "Requirement already satisfied: sniffio in e:\\anacoda\\lib\\site-packages (from httpx~=0.14->cobra>=0.5.0->escher) (1.2.0)\n",
      "Requirement already satisfied: typing-extensions>=3.7.4.3 in e:\\anacoda\\lib\\site-packages (from pydantic~=1.6->cobra>=0.5.0->escher) (4.1.1)\n",
      "Requirement already satisfied: ruamel.yaml.clib>=0.2.6; platform_python_implementation == \"CPython\" and python_version < \"3.11\" in e:\\anacoda\\lib\\site-packages (from ruamel.yaml~=0.16->cobra>=0.5.0->escher) (0.2.6)\n",
      "Requirement already satisfied: zipp>=3.1.0; python_version < \"3.10\" in e:\\anacoda\\lib\\site-packages (from importlib-resources->cobra>=0.5.0->escher) (3.1.0)\n",
      "Requirement already satisfied: pyparsing>=2.0.2 in e:\\anacoda\\lib\\site-packages (from packaging->pytest<5,>=4.0.1->escher) (2.4.7)\n",
      "Requirement already satisfied: pywin32>=1.0; sys_platform == \"win32\" in e:\\anacoda\\lib\\site-packages (from jupyter-core->nbformat>=4.2.0->ipywidgets<8,>=7.4.0->escher) (227)\n",
      "Requirement already satisfied: pyzmq>=13 in e:\\anacoda\\lib\\site-packages (from jupyter-client->ipykernel>=4.5.1->ipywidgets<8,>=7.4.0->escher) (19.0.1)\n",
      "Requirement already satisfied: parso<0.8.0,>=0.7.0 in e:\\anacoda\\lib\\site-packages (from jedi>=0.10->ipython>=4.0.0; python_version >= \"3.3\"->ipywidgets<8,>=7.4.0->escher) (0.7.0)\n",
      "Requirement already satisfied: nbconvert in e:\\anacoda\\lib\\site-packages (from notebook>=4.4.1->widgetsnbextension~=3.5.0->ipywidgets<8,>=7.4.0->escher) (5.6.1)\n",
      "Requirement already satisfied: Send2Trash in e:\\anacoda\\lib\\site-packages (from notebook>=4.4.1->widgetsnbextension~=3.5.0->ipywidgets<8,>=7.4.0->escher) (1.5.0)\n",
      "Requirement already satisfied: terminado>=0.8.1 in e:\\anacoda\\lib\\site-packages (from notebook>=4.4.1->widgetsnbextension~=3.5.0->ipywidgets<8,>=7.4.0->escher) (0.8.3)\n",
      "Requirement already satisfied: prometheus-client in e:\\anacoda\\lib\\site-packages (from notebook>=4.4.1->widgetsnbextension~=3.5.0->ipywidgets<8,>=7.4.0->escher) (0.8.0)\n",
      "Requirement already satisfied: mpmath>=0.19 in e:\\anacoda\\lib\\site-packages (from sympy>=1.0->optlang~=1.5->cobra>=0.5.0->escher) (1.1.0)\n",
      "Requirement already satisfied: idna; extra == \"idna2008\" in e:\\anacoda\\lib\\site-packages (from rfc3986[idna2008]<2,>=1.3->httpx~=0.14->cobra>=0.5.0->escher) (2.10)\n",
      "Requirement already satisfied: anyio==3.* in e:\\anacoda\\lib\\site-packages (from httpcore<0.15.0,>=0.14.5->httpx~=0.14->cobra>=0.5.0->escher) (3.5.0)\n",
      "Requirement already satisfied: h11<0.13,>=0.11 in e:\\anacoda\\lib\\site-packages (from httpcore<0.15.0,>=0.14.5->httpx~=0.14->cobra>=0.5.0->escher) (0.12.0)\n",
      "Requirement already satisfied: defusedxml in e:\\anacoda\\lib\\site-packages (from nbconvert->notebook>=4.4.1->widgetsnbextension~=3.5.0->ipywidgets<8,>=7.4.0->escher) (0.6.0)\n",
      "Requirement already satisfied: testpath in e:\\anacoda\\lib\\site-packages (from nbconvert->notebook>=4.4.1->widgetsnbextension~=3.5.0->ipywidgets<8,>=7.4.0->escher) (0.4.4)\n",
      "Requirement already satisfied: entrypoints>=0.2.2 in e:\\anacoda\\lib\\site-packages (from nbconvert->notebook>=4.4.1->widgetsnbextension~=3.5.0->ipywidgets<8,>=7.4.0->escher) (0.3)\n",
      "Requirement already satisfied: mistune<2,>=0.8.1 in e:\\anacoda\\lib\\site-packages (from nbconvert->notebook>=4.4.1->widgetsnbextension~=3.5.0->ipywidgets<8,>=7.4.0->escher) (0.8.4)\n",
      "Requirement already satisfied: pandocfilters>=1.4.1 in e:\\anacoda\\lib\\site-packages (from nbconvert->notebook>=4.4.1->widgetsnbextension~=3.5.0->ipywidgets<8,>=7.4.0->escher) (1.4.2)\n",
      "Requirement already satisfied: bleach in e:\\anacoda\\lib\\site-packages (from nbconvert->notebook>=4.4.1->widgetsnbextension~=3.5.0->ipywidgets<8,>=7.4.0->escher) (3.1.5)\n",
      "Requirement already satisfied: webencodings in e:\\anacoda\\lib\\site-packages (from bleach->nbconvert->notebook>=4.4.1->widgetsnbextension~=3.5.0->ipywidgets<8,>=7.4.0->escher) (0.5.1)\n"
     ]
    }
   ],
   "source": [
    "!pip install escher"
   ]
  },
  {
   "cell_type": "code",
   "execution_count": 21,
   "metadata": {},
   "outputs": [],
   "source": [
    "import escher"
   ]
  },
  {
   "cell_type": "code",
   "execution_count": 22,
   "metadata": {},
   "outputs": [],
   "source": [
    "from escher import Builder "
   ]
  },
  {
   "cell_type": "code",
   "execution_count": 23,
   "metadata": {},
   "outputs": [
    {
     "data": {
      "text/html": [
       "\n",
       "        <table>\n",
       "            <tr>\n",
       "                <td><strong>Name</strong></td>\n",
       "                <td>FirstModel</td>\n",
       "            </tr><tr>\n",
       "                <td><strong>Memory address</strong></td>\n",
       "                <td>0x028181503c10</td>\n",
       "            </tr><tr>\n",
       "                <td><strong>Number of metabolites</strong></td>\n",
       "                <td>4</td>\n",
       "            </tr><tr>\n",
       "                <td><strong>Number of reactions</strong></td>\n",
       "                <td>6</td>\n",
       "            </tr><tr>\n",
       "                <td><strong>Number of groups</strong></td>\n",
       "                <td>0</td>\n",
       "            </tr><tr>\n",
       "                <td><strong>Objective expression</strong></td>\n",
       "                <td>1.0*M - 1.0*M_reverse_69691</td>\n",
       "            </tr><tr>\n",
       "                <td><strong>Compartments</strong></td>\n",
       "                <td>c</td>\n",
       "            </tr>\n",
       "          </table>"
      ],
      "text/plain": [
       "<Model FirstModel at 0x28181503c10>"
      ]
     },
     "execution_count": 23,
     "metadata": {},
     "output_type": "execute_result"
    }
   ],
   "source": [
    "cobra.io.load_json_model(\"test.json\")"
   ]
  },
  {
   "cell_type": "code",
   "execution_count": 24,
   "metadata": {},
   "outputs": [],
   "source": [
    "builder=Builder(model_json=\"test.json\")"
   ]
  },
  {
   "cell_type": "code",
   "execution_count": 25,
   "metadata": {},
   "outputs": [
    {
     "data": {
      "application/vnd.jupyter.widget-view+json": {
       "model_id": "f4e1bf139c684221b1f91ac900d0dce9",
       "version_major": 2,
       "version_minor": 0
      },
      "text/plain": [
       "Builder()"
      ]
     },
     "metadata": {},
     "output_type": "display_data"
    }
   ],
   "source": [
    "builder"
   ]
  },
  {
   "cell_type": "code",
   "execution_count": null,
   "metadata": {},
   "outputs": [],
   "source": []
  }
 ],
 "metadata": {
  "kernelspec": {
   "display_name": "Python 3",
   "language": "python",
   "name": "python3"
  },
  "language_info": {
   "codemirror_mode": {
    "name": "ipython",
    "version": 3
   },
   "file_extension": ".py",
   "mimetype": "text/x-python",
   "name": "python",
   "nbconvert_exporter": "python",
   "pygments_lexer": "ipython3",
   "version": "3.8.3"
  }
 },
 "nbformat": 4,
 "nbformat_minor": 4
}
